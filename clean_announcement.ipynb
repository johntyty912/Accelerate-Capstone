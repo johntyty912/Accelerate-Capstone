{
 "cells": [
  {
   "cell_type": "code",
   "execution_count": 1,
   "metadata": {},
   "outputs": [],
   "source": [
    "import pandas as pd\n",
    "\n",
    "import os"
   ]
  },
  {
   "cell_type": "code",
   "execution_count": 2,
   "metadata": {},
   "outputs": [
    {
     "name": "stdout",
     "output_type": "stream",
     "text": [
      "Requirement already satisfied: pyenchant in /home/nbuser/anaconda3_501/lib/python3.6/site-packages (2.0.0)\n",
      "\u001b[31mgrpcio 1.11.0 has requirement protobuf>=3.5.0.post1, but you'll have protobuf 3.4.1 which is incompatible.\u001b[0m\n"
     ]
    }
   ],
   "source": [
    "!pip install pyenchant"
   ]
  },
  {
   "cell_type": "code",
   "execution_count": 3,
   "metadata": {},
   "outputs": [
    {
     "data": {
      "text/plain": [
       "['0083HK.csv',\n",
       " '0683HK.csv',\n",
       " '0012HK.csv',\n",
       " '0001HK.csv',\n",
       " '0017HK.csv',\n",
       " '0020HK.csv',\n",
       " '0016HK.csv',\n",
       " '0432HK.csv',\n",
       " '0041HK.csv',\n",
       " '0054HK.csv',\n",
       " '1200HK.csv']"
      ]
     },
     "execution_count": 3,
     "metadata": {},
     "output_type": "execute_result"
    }
   ],
   "source": [
    "announs = os.listdir(\"Announcement\")\n",
    "announs"
   ]
  },
  {
   "cell_type": "code",
   "execution_count": 4,
   "metadata": {},
   "outputs": [],
   "source": [
    "##########################################\n",
    "# clean up the text in the data with regex\n",
    "##########################################\n",
    "import re\n",
    "import string\n",
    "\n",
    "def clean_text(text):\n",
    "    #text = str(row['fulltext'])\n",
    "\n",
    "    # Remove newline characters\n",
    "    cleantext = text.replace('\\r\\n', ' ')\n",
    "\n",
    "    # Convert HTML punctuation chaaracters\n",
    "    cleantext = cleantext.replace(' www.', ' ')   \n",
    "    cleantext = cleantext.replace('.com ', ' ')    \n",
    "    cleantext = cleantext.replace('.', ' ')\n",
    "    cleantext = cleantext.replace(',', ' ')\n",
    "    cleantext = cleantext.replace('!', ' ')\n",
    "    cleantext = cleantext.replace('$;', ' ')\n",
    "    cleantext = cleantext.replace('_', ' ')\n",
    "    cleantext = cleantext.replace(';', ' ')\n",
    "    cleantext = cleantext.replace(')', ' ')\n",
    "    cleantext = cleantext.replace('(', ' ')   \n",
    "    cleantext = cleantext.replace('>', ' ')  \n",
    "    cleantext = cleantext.replace('<', ' ')  \n",
    "    cleantext = cleantext.replace('-', ' ')  #take away hyphen and collapse hyphenated words\n",
    "    cleantext = cleantext.replace(' the ', ' ')  \n",
    "    cleantext = cleantext.replace(' of ', ' ')   \n",
    "    cleantext = cleantext.replace(' in ', ' ')  \n",
    "    cleantext = cleantext.replace(' and ', ' ')  \n",
    "    cleantext = cleantext.replace(' by ', ' ')  \n",
    "    cleantext = cleantext.replace(' to ', ' ')  \n",
    "    cleantext = cleantext.replace(' at ', ' ')  \n",
    "    cleantext = cleantext.replace(' on ', ' ') \n",
    "    cleantext = cleantext.replace(' for ', ' ')  \n",
    "    cleantext = cleantext.replace(' be ', ' ')   \n",
    "    cleantext = cleantext.replace(' is ', ' ')    \n",
    "    cleantext = cleantext.replace(' or ', ' ')   \n",
    "    cleantext = cleantext.replace(' we ', ' ')   \n",
    "    cleantext = cleantext.replace(' that ', ' ')   \n",
    "    cleantext = cleantext.replace(' our ', ' ')   \n",
    "    cleantext = cleantext.replace(' as ', ' ')        \n",
    "    cleantext = cleantext.replace(' from ', ' ')   \n",
    "    cleantext = cleantext.replace(' are ', ' ')   \n",
    "    cleantext = cleantext.replace(' with ', ' ')   \n",
    "    cleantext = cleantext.replace(' us ', ' ')   \n",
    "    cleantext = cleantext.replace(' was ', ' ')        \n",
    "    cleantext = cleantext.replace(' this ', ' ')   \n",
    "    cleantext = cleantext.replace(' an ', ' ')        \n",
    "    cleantext = cleantext.replace(' by ', ' ')   \n",
    "    cleantext = cleantext.replace(' sr ', ' ')      \n",
    "    cleantext = cleantext.replace(' it ', ' ')  \n",
    "    cleantext = cleantext.replace(' s ', ' ')  \n",
    "    cleantext = cleantext.replace(' st ', ' ') \n",
    "    cleantext = cleantext.replace(' nd ', ' ') \n",
    "    cleantext = cleantext.replace(' rd ', ' ') \n",
    "    cleantext = cleantext.replace(' th ', ' ')\n",
    "\n",
    "\n",
    "    #remove non alpha characters and specific noise\n",
    "    cleantext = re.sub(r'\\d+', ' ',cleantext)\n",
    "    cleantext = re.sub(r'^b',' ',cleantext)\n",
    "    cleantext = re.sub(r'[^\\w]',' ',cleantext)\n",
    "    cleantext = re.sub(u'[\\u4e00-\\u9fff]+','',cleantext)\n",
    "    cleantext = cleantext.replace('xc xs', ' ')  \n",
    "    cleantext = cleantext.replace('xe xs', ' ')  \n",
    "    cleantext = cleantext.replace('xc xS', ' ')  \n",
    "    cleantext = cleantext.replace('xe xS', ' ')  \n",
    "    cleantext = cleantext.replace('xc xa', ' ')  \n",
    "    cleantext = cleantext.replace('xe xa', ' ')  \n",
    "    cleantext = cleantext.replace(' xc xc x', ' ')  \n",
    "    cleantext = cleantext.replace(' xc ', ' ')  \n",
    "    cleantext = cleantext.replace(' xe ', ' ')  \n",
    "    cleantext = cleantext.replace(' xs ', ' ')  \n",
    "    cleantext = cleantext.replace(' xa ', ' ')  \n",
    "    cleantext = cleantext.replace(' ct ', ' ')  \n",
    "    cleantext = cleantext.replace(' x ', ' ')  \n",
    "    cleantext = cleantext.replace(' non exclusive ', ' non-exclusive ') \n",
    "    cleantext = cleantext.replace(' u ', ' ')   \n",
    "    cleantext = cleantext.replace(' s ', ' ')  \n",
    "    \n",
    "    #remove specific noise\n",
    "    cleantext = cleantext.translate(str.maketrans({'‘':' ','’':' '}))\n",
    "    cleantext = cleantext.translate(str.maketrans({',':' ',',':' '}))\n",
    "    cleantext = cleantext.translate(str.maketrans({'[':' ',']':' '}))\n",
    "    cleantext = cleantext.translate(str.maketrans({'\"':' ','%':' '}))\n",
    "    cleantext = cleantext.translate(str.maketrans({'^':' ','*':' '}))\n",
    "\n",
    "    #remove punctuation\n",
    "    punctpattern = re.compile('[%s]' % re.escape(string.punctuation))\n",
    "    cleanttext = re.sub(punctpattern,'', cleantext)\n",
    "\n",
    "    #remove single letter word\n",
    "    cleantext = re.sub('(\\\\b[A-Za-z] \\\\b|\\\\b [A-Za-z]\\\\b)', '', cleantext) \n",
    "\n",
    "    # Remove extra spaces\n",
    "    cleantext = re.sub('\\s+', ' ', cleantext).strip()\n",
    "    \n",
    "    \n",
    "\n",
    "    return cleantext.lower()"
   ]
  },
  {
   "cell_type": "code",
   "execution_count": null,
   "metadata": {},
   "outputs": [],
   "source": [
    "def check_eng(s):\n",
    "    import enchant\n",
    "    d = enchant.Dict(\"en_US\")\n",
    "    lis=[]\n",
    "    for i in s.split(\" \"):\n",
    "        if d.check(i):\n",
    "            lis.append(i)\n",
    "    return \" \".join(lis)"
   ]
  },
  {
   "cell_type": "code",
   "execution_count": null,
   "metadata": {},
   "outputs": [],
   "source": [
    "for i in announs:\n",
    "    df = pd.read_csv(\"Announcement/{}\".format(i))\n",
    "    df[\"text\"] = df[\"text\"].apply(str).apply(clean_text).apply(check_eng)\n",
    "    df = df.loc[:, ~df.columns.str.contains('^Unnamed')]\n",
    "    df.sort_values(by=\"Date\",inplace=True)\n",
    "    df.to_csv(\"Announcement_clean/{}\".format(i))"
   ]
  },
  {
   "cell_type": "code",
   "execution_count": null,
   "metadata": {},
   "outputs": [],
   "source": [
    "df = pd.read_csv(\"Announcement_clean/{}\".format(\"0001HK.csv\"), index_col=1)\n",
    "df = df.loc[:, ~df.columns.str.contains('^Unnamed')]"
   ]
  },
  {
   "cell_type": "code",
   "execution_count": null,
   "metadata": {},
   "outputs": [],
   "source": [
    "df.head()"
   ]
  },
  {
   "cell_type": "code",
   "execution_count": null,
   "metadata": {},
   "outputs": [],
   "source": []
  }
 ],
 "metadata": {
  "kernelspec": {
   "display_name": "Python 3.6",
   "language": "python",
   "name": "python36"
  },
  "language_info": {
   "codemirror_mode": {
    "name": "ipython",
    "version": 3
   },
   "file_extension": ".py",
   "mimetype": "text/x-python",
   "name": "python",
   "nbconvert_exporter": "python",
   "pygments_lexer": "ipython3",
   "version": "3.6.3"
  }
 },
 "nbformat": 4,
 "nbformat_minor": 2
}
